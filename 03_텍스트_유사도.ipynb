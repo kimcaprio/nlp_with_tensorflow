{
  "nbformat": 4,
  "nbformat_minor": 0,
  "metadata": {
    "colab": {
      "name": "03.텍스트 유사도.ipynb",
      "version": "0.3.2",
      "provenance": [],
      "collapsed_sections": [],
      "toc_visible": true,
      "include_colab_link": true
    },
    "kernelspec": {
      "name": "python3",
      "display_name": "Python 3"
    },
    "accelerator": "GPU"
  },
  "cells": [
    {
      "cell_type": "markdown",
      "metadata": {
        "id": "view-in-github",
        "colab_type": "text"
      },
      "source": [
        "<a href=\"https://colab.research.google.com/github/kimcaprio/nlp_with_tensorflow/blob/master/03_%ED%85%8D%EC%8A%A4%ED%8A%B8_%EC%9C%A0%EC%82%AC%EB%8F%84.ipynb\" target=\"_parent\"><img src=\"https://colab.research.google.com/assets/colab-badge.svg\" alt=\"Open In Colab\"/></a>"
      ]
    },
    {
      "metadata": {
        "id": "SITi-c2YZPyQ",
        "colab_type": "code",
        "outputId": "00299786-9cf3-4f23-e3d5-72e8f4fe2a4e",
        "colab": {
          "base_uri": "https://localhost:8080/",
          "height": 35
        }
      },
      "cell_type": "code",
      "source": [
        "from google.colab import auth\n",
        "auth.authenticate_user()\n",
        "\n",
        "from google.colab import drive\n",
        "drive.mount('/content/gdrive')"
      ],
      "execution_count": 1,
      "outputs": [
        {
          "output_type": "stream",
          "text": [
            "Drive already mounted at /content/gdrive; to attempt to forcibly remount, call drive.mount(\"/content/gdrive\", force_remount=True).\n"
          ],
          "name": "stdout"
        }
      ]
    },
    {
      "metadata": {
        "id": "nRaxEI14gSyJ",
        "colab_type": "code",
        "colab": {}
      },
      "cell_type": "code",
      "source": [
        "#!pip install sklearn"
      ],
      "execution_count": 0,
      "outputs": []
    },
    {
      "metadata": {
        "id": "_9cJnStzVX4p",
        "colab_type": "code",
        "colab": {}
      },
      "cell_type": "code",
      "source": [
        "from sklearn.feature_extraction.text import TfidfVectorizer"
      ],
      "execution_count": 0,
      "outputs": []
    },
    {
      "metadata": {
        "id": "PgiK7mp_hU-u",
        "colab_type": "code",
        "colab": {}
      },
      "cell_type": "code",
      "source": [
        "sent = (\"휴일 인 오늘 도 서쪽 을 중심 으로 폭염 이 이어졌는데요, 내일 은 반가운 비 소식 이 있습니다.\", \"폭염 을 피해서 휴일 에 놀러왔다가 갑작스런 비 로 인해 망연자실 하고 있습니다.\")"
      ],
      "execution_count": 0,
      "outputs": []
    },
    {
      "metadata": {
        "id": "ZehJhkoihiik",
        "colab_type": "code",
        "outputId": "3fde5845-dca9-4174-a85b-22b07932773c",
        "colab": {
          "base_uri": "https://localhost:8080/",
          "height": 55
        }
      },
      "cell_type": "code",
      "source": [
        "tfidf_vectorizer = TfidfVectorizer()\n",
        "#tfidf_matrix 에는 embading 된 matrix 데이터가 담겨있음.\n",
        "tfidf_matrix = tfidf_vectorizer.fit_transform(sent)\n",
        "#print(\"tifidf_matrix : \", tifidf_matrix)\n",
        "#print(\"tfidf_vectorizer : \", tfidf_vectorizer.)\n",
        "#tfidf_vectorizer object에 fit_tranform 된 데이터가 존재.\n",
        "idf = tfidf_vectorizer.idf_\n",
        "print(dict(zip(tfidf_vectorizer.get_feature_names(), idf)))"
      ],
      "execution_count": 5,
      "outputs": [
        {
          "output_type": "stream",
          "text": [
            "{'갑작스런': 1.4054651081081644, '내일': 1.4054651081081644, '놀러왔다가': 1.4054651081081644, '망연자실': 1.4054651081081644, '반가운': 1.4054651081081644, '서쪽': 1.4054651081081644, '소식': 1.4054651081081644, '오늘': 1.4054651081081644, '으로': 1.4054651081081644, '이어졌는데요': 1.4054651081081644, '인해': 1.4054651081081644, '있습니다': 1.0, '중심': 1.4054651081081644, '폭염': 1.0, '피해서': 1.4054651081081644, '하고': 1.4054651081081644, '휴일': 1.0}\n"
          ],
          "name": "stdout"
        }
      ]
    },
    {
      "metadata": {
        "id": "fN_dTN9mj0LR",
        "colab_type": "text"
      },
      "cell_type": "markdown",
      "source": [
        "##코사인 유사도"
      ]
    },
    {
      "metadata": {
        "id": "7RVrC5O9iADl",
        "colab_type": "code",
        "outputId": "8176844e-69fd-4cb3-f17e-cdf7c2a8b9c9",
        "colab": {
          "base_uri": "https://localhost:8080/",
          "height": 773
        }
      },
      "cell_type": "code",
      "source": [
        "from sklearn.metrics.pairwise import cosine_similarity\n",
        "\n",
        "print(\"tfidf_matrix.type : \", type(tfidf_matrix))\n",
        "print(\"tfidf_matrix : \", tfidf_matrix)\n",
        "print(\"tfidf_matrix[0:1] : \", tfidf_matrix[0:1])\n",
        "print(\"tfidf_matrix[1:2] : \", tfidf_matrix[1:2])\n",
        "cosine_similarity(tfidf_matrix[0:1], tfidf_matrix[1:2])"
      ],
      "execution_count": 6,
      "outputs": [
        {
          "output_type": "stream",
          "text": [
            "tfidf_matrix.type :  <class 'scipy.sparse.csr.csr_matrix'>\n",
            "tfidf_matrix :    (0, 16)\t0.23061650387901597\n",
            "  (0, 7)\t0.3241234495558481\n",
            "  (0, 5)\t0.3241234495558481\n",
            "  (0, 12)\t0.3241234495558481\n",
            "  (0, 8)\t0.3241234495558481\n",
            "  (0, 13)\t0.23061650387901597\n",
            "  (0, 9)\t0.3241234495558481\n",
            "  (0, 1)\t0.3241234495558481\n",
            "  (0, 4)\t0.3241234495558481\n",
            "  (0, 6)\t0.3241234495558481\n",
            "  (0, 11)\t0.23061650387901597\n",
            "  (1, 16)\t0.2594822360637418\n",
            "  (1, 13)\t0.2594822360637418\n",
            "  (1, 11)\t0.2594822360637418\n",
            "  (1, 14)\t0.36469322896147516\n",
            "  (1, 2)\t0.36469322896147516\n",
            "  (1, 0)\t0.36469322896147516\n",
            "  (1, 10)\t0.36469322896147516\n",
            "  (1, 3)\t0.36469322896147516\n",
            "  (1, 15)\t0.36469322896147516\n",
            "tfidf_matrix[0:1] :    (0, 16)\t0.23061650387901597\n",
            "  (0, 7)\t0.3241234495558481\n",
            "  (0, 5)\t0.3241234495558481\n",
            "  (0, 12)\t0.3241234495558481\n",
            "  (0, 8)\t0.3241234495558481\n",
            "  (0, 13)\t0.23061650387901597\n",
            "  (0, 9)\t0.3241234495558481\n",
            "  (0, 1)\t0.3241234495558481\n",
            "  (0, 4)\t0.3241234495558481\n",
            "  (0, 6)\t0.3241234495558481\n",
            "  (0, 11)\t0.23061650387901597\n",
            "tfidf_matrix[1:2] :    (0, 16)\t0.2594822360637418\n",
            "  (0, 13)\t0.2594822360637418\n",
            "  (0, 11)\t0.2594822360637418\n",
            "  (0, 14)\t0.36469322896147516\n",
            "  (0, 2)\t0.36469322896147516\n",
            "  (0, 0)\t0.36469322896147516\n",
            "  (0, 10)\t0.36469322896147516\n",
            "  (0, 3)\t0.36469322896147516\n",
            "  (0, 15)\t0.36469322896147516\n"
          ],
          "name": "stdout"
        },
        {
          "output_type": "execute_result",
          "data": {
            "text/plain": [
              "array([[0.17952266]])"
            ]
          },
          "metadata": {
            "tags": []
          },
          "execution_count": 6
        }
      ]
    },
    {
      "metadata": {
        "id": "HxNtIdf-mA24",
        "colab_type": "text"
      },
      "cell_type": "markdown",
      "source": [
        "## 유클리디언 유사도\n",
        "\n",
        "\n",
        "*   n 차원 공간에서 두 점사이의 최단 거리(L2-Distance)구하는 방법.\n",
        "*   거리가 가까울수록 유사하다는 의미\n",
        "\n"
      ]
    },
    {
      "metadata": {
        "id": "3idjltCNl-Z7",
        "colab_type": "code",
        "colab": {}
      },
      "cell_type": "code",
      "source": [
        "from sklearn.metrics.pairwise import euclidean_distances"
      ],
      "execution_count": 0,
      "outputs": []
    },
    {
      "metadata": {
        "id": "HKlEq5_rl_8K",
        "colab_type": "code",
        "outputId": "68a003de-58fd-4c5d-d5cb-c0978ecc5e70",
        "colab": {
          "base_uri": "https://localhost:8080/",
          "height": 35
        }
      },
      "cell_type": "code",
      "source": [
        "euclidean_distances(tfidf_matrix[0:1], tfidf_matrix[1:2])"
      ],
      "execution_count": 8,
      "outputs": [
        {
          "output_type": "execute_result",
          "data": {
            "text/plain": [
              "array([[1.28099753]])"
            ]
          },
          "metadata": {
            "tags": []
          },
          "execution_count": 8
        }
      ]
    },
    {
      "metadata": {
        "id": "pecqLgInm023",
        "colab_type": "text"
      },
      "cell_type": "markdown",
      "source": [
        "### 다른 유사도와 달리 유사도 값이 1보다 큰 수\n",
        "- 단순히 두 점사이의 거리를 계산하기 때문에 계속 커질수 있음.\n",
        "- 0~1 사이의 값을 갖도록 L1 정규화 방법을 이용.(벡터/sum(벡터의 모든값) )"
      ]
    },
    {
      "metadata": {
        "id": "6CF6w5JYm0cw",
        "colab_type": "code",
        "colab": {}
      },
      "cell_type": "code",
      "source": [
        "import numpy as np"
      ],
      "execution_count": 0,
      "outputs": []
    },
    {
      "metadata": {
        "id": "rw3McdTtmwaf",
        "colab_type": "code",
        "outputId": "0d7c8d57-28dd-4d76-aae6-9350c43a5f7f",
        "colab": {
          "base_uri": "https://localhost:8080/",
          "height": 35
        }
      },
      "cell_type": "code",
      "source": [
        "def l1_normalize(v):\n",
        "  norm = np.sum(v)\n",
        "  return v / norm\n",
        "\n",
        "tfidf_norm_l1 = l1_normalize(tfidf_matrix)\n",
        "euclidean_distances(tfidf_norm_l1[0:1], tfidf_norm_l1[1:2])"
      ],
      "execution_count": 10,
      "outputs": [
        {
          "output_type": "execute_result",
          "data": {
            "text/plain": [
              "array([[0.20491229]])"
            ]
          },
          "metadata": {
            "tags": []
          },
          "execution_count": 10
        }
      ]
    },
    {
      "metadata": {
        "id": "GuqvvXFEn-fF",
        "colab_type": "text"
      },
      "cell_type": "markdown",
      "source": [
        "## 맨하탄 유사도\n"
      ]
    },
    {
      "metadata": {
        "id": "y9s_9lX0oVao",
        "colab_type": "code",
        "outputId": "2de699a3-a1a3-44f8-d8d5-74afbee88543",
        "colab": {
          "base_uri": "https://localhost:8080/",
          "height": 35
        }
      },
      "cell_type": "code",
      "source": [
        "from sklearn.metrics.pairwise import manhattan_distances\n",
        "manhattan_distances(tfidf_norm_l1[0:1], tfidf_norm_l1[1:2])"
      ],
      "execution_count": 11,
      "outputs": [
        {
          "output_type": "execute_result",
          "data": {
            "text/plain": [
              "array([[0.77865927]])"
            ]
          },
          "metadata": {
            "tags": []
          },
          "execution_count": 11
        }
      ]
    },
    {
      "metadata": {
        "id": "k5gbccQ9oT_7",
        "colab_type": "text"
      },
      "cell_type": "markdown",
      "source": [
        "## 기계 이해\n",
        "\n",
        "\n",
        "\n",
        "*   기계가 텍스트에 대한 정보 학습 후 질문에 응답하는 문제해결 방법.\n",
        "\n"
      ]
    },
    {
      "metadata": {
        "id": "J2rBE7genMDP",
        "colab_type": "text"
      },
      "cell_type": "markdown",
      "source": [
        "## 데이터 이해하기\n",
        "\n",
        "*   탐색적 데이터 분석 EDA(Exloratory Data Analysis)\n",
        "*   정해진 틀 없이 주어진 데이터에 대한 정보(평균, 중앙, …) 최대한 많이 뽑아내는 것이 중요"
      ]
    },
    {
      "metadata": {
        "id": "s2s6tJNZjEVf",
        "colab_type": "code",
        "outputId": "38a551c9-5161-4ab9-9767-28c0b84bf880",
        "colab": {
          "base_uri": "https://localhost:8080/",
          "height": 35
        }
      },
      "cell_type": "code",
      "source": [
        "import os\n",
        "import re\n",
        "\n",
        "import pandas as pd\n",
        "import tensorflow as tf\n",
        "from tensorflow.keras import utils\n",
        "\n",
        "%cd /content/gdrive/My Drive/CoLab/NLP with Tensorflow/download\n",
        "\n",
        "data_set = tf.keras.utils.get_file(fname=\"/content/gdrive/My Drive/CoLab/NLP with Tensorflow/download/imdb.tar.gz\",origin=\"http://ai.stanford.edu/~amaas/data/sentiment/aclImdb_v1.tar.gz\",extract=True)"
      ],
      "execution_count": 12,
      "outputs": [
        {
          "output_type": "stream",
          "text": [
            "/content/gdrive/My Drive/CoLab/NLP with Tensorflow/download\n"
          ],
          "name": "stdout"
        }
      ]
    },
    {
      "metadata": {
        "id": "KJK-i8G1uNPb",
        "colab_type": "code",
        "colab": {}
      },
      "cell_type": "code",
      "source": [
        "\n"
      ],
      "execution_count": 0,
      "outputs": []
    },
    {
      "metadata": {
        "id": "ZQUMLSYTsI7L",
        "colab_type": "code",
        "colab": {}
      },
      "cell_type": "code",
      "source": [
        "def directory_data(directory):\n",
        "  #print(\"def directory_data directory : \", directory)\n",
        "  data = {}\n",
        "  data[\"review\"] = []\n",
        "  for file_path in os.listdir(directory):\n",
        "    with open(os.path.join(directory, file_path), \"r\") as file:\n",
        "      data[\"review\"].append(file.read())\n",
        "  #print(\"data[] : \", data)\n",
        "  #print(\"data[review] : \", data[\"review\"])\n",
        "  return pd.DataFrame.from_dict(data)"
      ],
      "execution_count": 0,
      "outputs": []
    },
    {
      "metadata": {
        "id": "T9pQ9PTFtBaU",
        "colab_type": "code",
        "colab": {}
      },
      "cell_type": "code",
      "source": [
        "def data(directory):\n",
        "  #print(\"def data directory : \", directory)\n",
        "  pos_df = directory_data(os.path.join(directory, \"pos\"))\n",
        "  neg_df = directory_data(os.path.join(directory, \"neg\"))\n",
        "  pos_df[\"sentiment\"] = 1\n",
        "  neg_df[\"sentiment\"] = 0\n",
        "  \n",
        "  return pd.concat([pos_df, neg_df])"
      ],
      "execution_count": 0,
      "outputs": []
    },
    {
      "metadata": {
        "id": "jYHTvvMttd1O",
        "colab_type": "code",
        "colab": {}
      },
      "cell_type": "code",
      "source": [
        "train_df = data(os.path.join(os.path.dirname(data_set), \"aclImdb\", \"train\"))\n",
        "test_df = data(os.path.join(os.path.dirname(data_set), \"aclImdb\", \"test\"))"
      ],
      "execution_count": 0,
      "outputs": []
    },
    {
      "metadata": {
        "id": "ixStoTmAL4Pi",
        "colab_type": "code",
        "colab": {}
      },
      "cell_type": "code",
      "source": [
        "train_df.head()"
      ],
      "execution_count": 0,
      "outputs": []
    },
    {
      "metadata": {
        "id": "uKueAWykL8Pu",
        "colab_type": "code",
        "colab": {}
      },
      "cell_type": "code",
      "source": [
        "reviews = list(train_df['review'])"
      ],
      "execution_count": 0,
      "outputs": []
    },
    {
      "metadata": {
        "id": "gOlMlm2PMBEr",
        "colab_type": "code",
        "colab": {}
      },
      "cell_type": "code",
      "source": [
        ""
      ],
      "execution_count": 0,
      "outputs": []
    }
  ]
}